{
  "nbformat": 4,
  "nbformat_minor": 0,
  "metadata": {
    "colab": {
      "provenance": [],
      "authorship_tag": "ABX9TyNX6AhfjQuUBtB+Q/oVajHp",
      "include_colab_link": true
    },
    "kernelspec": {
      "name": "python3",
      "display_name": "Python 3"
    },
    "language_info": {
      "name": "python"
    }
  },
  "cells": [
    {
      "cell_type": "markdown",
      "metadata": {
        "id": "view-in-github",
        "colab_type": "text"
      },
      "source": [
        "<a href=\"https://colab.research.google.com/github/EdsonRaySanJuan/CpE-031-VDA-CpE-21S4/blob/main/Exercise_1.ipynb\" target=\"_parent\"><img src=\"https://colab.research.google.com/assets/colab-badge.svg\" alt=\"Open In Colab\"/></a>"
      ]
    },
    {
      "cell_type": "markdown",
      "source": [
        "## **Variables and Data Types**"
      ],
      "metadata": {
        "id": "j2-QAfZE8hNF"
      }
    },
    {
      "cell_type": "markdown",
      "source": [
        " **Numbers**"
      ],
      "metadata": {
        "id": "JHduU-tq51sm"
      }
    },
    {
      "cell_type": "code",
      "source": [
        "varNum = 123\n",
        "pi = 3.14159"
      ],
      "metadata": {
        "id": "6o70j4oj12N2"
      },
      "execution_count": 6,
      "outputs": []
    },
    {
      "cell_type": "markdown",
      "source": [
        " **Strings**"
      ],
      "metadata": {
        "id": "jaoPbBHA6oIe"
      }
    },
    {
      "cell_type": "code",
      "source": [
        "varString = \"Hello World!\"\n",
        "varText = 'THis is a string'\n"
      ],
      "metadata": {
        "id": "wnLxOUOZ4QT-"
      },
      "execution_count": null,
      "outputs": []
    },
    {
      "cell_type": "markdown",
      "source": [
        " **Lists**"
      ],
      "metadata": {
        "id": "3QPVjuFQ6qhW"
      }
    },
    {
      "cell_type": "code",
      "source": [
        "varList = ['abc', 123]"
      ],
      "metadata": {
        "id": "bXzNJfSo4TvO"
      },
      "execution_count": null,
      "outputs": []
    },
    {
      "cell_type": "markdown",
      "source": [
        " **Tuples**"
      ],
      "metadata": {
        "id": "GWOzHfMt6tn2"
      }
    },
    {
      "cell_type": "code",
      "source": [
        "varTuple = 'abc', 123, \"HELLO\""
      ],
      "metadata": {
        "id": "T3pcMFx64WJg"
      },
      "execution_count": null,
      "outputs": []
    },
    {
      "cell_type": "markdown",
      "source": [
        " **Dictionaries**"
      ],
      "metadata": {
        "id": "sunZGTW66wmH"
      }
    },
    {
      "cell_type": "code",
      "source": [
        "var = 3\n",
        "varDict = {'first':1, '2':'2nd', 3:var}"
      ],
      "metadata": {
        "id": "G808ejmt4XxA"
      },
      "execution_count": null,
      "outputs": []
    },
    {
      "cell_type": "code",
      "source": [
        "varDict = {}\n",
        "varDict['first'] = 1\n",
        "varDict['2'] = '2nd'\n",
        "varDict[3] = var"
      ],
      "metadata": {
        "id": "0yjZLwr4-zJ0"
      },
      "execution_count": null,
      "outputs": []
    },
    {
      "cell_type": "markdown",
      "source": [
        " **Addition**"
      ],
      "metadata": {
        "id": "mqTGk9ZD5O0Z"
      }
    },
    {
      "cell_type": "code",
      "source": [
        "a = 5 + 3"
      ],
      "metadata": {
        "id": "XdM6zHnl4bmN"
      },
      "execution_count": 11,
      "outputs": []
    },
    {
      "cell_type": "markdown",
      "source": [],
      "metadata": {
        "id": "i_Jk7Dlv5m89"
      }
    },
    {
      "cell_type": "markdown",
      "source": [
        " **Subtraction**"
      ],
      "metadata": {
        "id": "s4okwDM-5Sqv"
      }
    },
    {
      "cell_type": "code",
      "source": [
        "a = 5 - 3"
      ],
      "metadata": {
        "id": "xmtWrOOQ4rjt"
      },
      "execution_count": null,
      "outputs": []
    },
    {
      "cell_type": "markdown",
      "source": [
        " **Multiplication**"
      ],
      "metadata": {
        "id": "o1pI2QAR5Wrf"
      }
    },
    {
      "cell_type": "code",
      "source": [
        "a = 5 * 3"
      ],
      "metadata": {
        "id": "bd89aZmN4tWF"
      },
      "execution_count": null,
      "outputs": []
    },
    {
      "cell_type": "markdown",
      "source": [
        " **Exponent**"
      ],
      "metadata": {
        "id": "cOZCs1fJ5aSA"
      }
    },
    {
      "cell_type": "code",
      "source": [
        "a = 5 ** 3"
      ],
      "metadata": {
        "id": "NgcWcf5G4whF"
      },
      "execution_count": null,
      "outputs": []
    },
    {
      "cell_type": "markdown",
      "source": [
        " **Division**"
      ],
      "metadata": {
        "id": "YL6A0T-L5eBm"
      }
    },
    {
      "cell_type": "code",
      "source": [
        "a = 5 / 3"
      ],
      "metadata": {
        "id": "-VXN_M_L40Jt"
      },
      "execution_count": 2,
      "outputs": []
    },
    {
      "cell_type": "code",
      "source": [
        "a = 5 % 3"
      ],
      "metadata": {
        "id": "R1CKaFtv41x1"
      },
      "execution_count": null,
      "outputs": []
    },
    {
      "cell_type": "code",
      "source": [
        "a = 5 // 3"
      ],
      "metadata": {
        "id": "3VvZugNO434V"
      },
      "execution_count": null,
      "outputs": []
    },
    {
      "cell_type": "markdown",
      "source": [
        "## **Arithmetic**"
      ],
      "metadata": {
        "id": "qdkvWaFg85pF"
      }
    },
    {
      "cell_type": "markdown",
      "source": [
        "**Increment/Decrement**"
      ],
      "metadata": {
        "id": "ESPOpx9I55P9"
      }
    },
    {
      "cell_type": "code",
      "source": [
        "a = 5\n",
        "a += 1"
      ],
      "metadata": {
        "id": "Pz-Udnds59s-"
      },
      "execution_count": null,
      "outputs": []
    },
    {
      "cell_type": "markdown",
      "source": [
        " **Decrement**"
      ],
      "metadata": {
        "id": "BMSPugFT6JTt"
      }
    },
    {
      "cell_type": "code",
      "source": [
        "a = 5\n",
        "a -= 1"
      ],
      "metadata": {
        "id": "dVQJorvu6LU9"
      },
      "execution_count": 4,
      "outputs": []
    },
    {
      "cell_type": "markdown",
      "source": [
        " **String Concatenation**"
      ],
      "metadata": {
        "id": "-I_nwGTr6R_l"
      }
    },
    {
      "cell_type": "code",
      "source": [
        "a = 'Hello' + 'World!'"
      ],
      "metadata": {
        "id": "K_HuWu_56XpO"
      },
      "execution_count": null,
      "outputs": []
    },
    {
      "cell_type": "code",
      "source": [
        "a = 3 + 5 - 6 * 2 / 4"
      ],
      "metadata": {
        "id": "PodsFBgl6fbM"
      },
      "execution_count": 9,
      "outputs": []
    },
    {
      "cell_type": "markdown",
      "source": [
        "## **Control Statements and Data Structures**"
      ],
      "metadata": {
        "id": "8cWEVe3N7JYM"
      }
    },
    {
      "cell_type": "markdown",
      "source": [
        "**Conditional Statements**"
      ],
      "metadata": {
        "id": "N3qxewVX7Yhm"
      }
    },
    {
      "cell_type": "markdown",
      "source": [
        " **Boolean Conditions**"
      ],
      "metadata": {
        "id": "oI5tjor27hcl"
      }
    },
    {
      "cell_type": "code",
      "source": [
        "x = True\n",
        "\n",
        "if x:\n",
        "  print(\"var x is True\")\n",
        "else:\n",
        "  print(\"var x is false\")"
      ],
      "metadata": {
        "id": "aOCZ5RVn7jv9"
      },
      "execution_count": null,
      "outputs": []
    },
    {
      "cell_type": "markdown",
      "source": [
        " **String Condition**"
      ],
      "metadata": {
        "id": "dyyTjDJb7v99"
      }
    },
    {
      "cell_type": "code",
      "source": [
        "x = \"Hello World\"\n",
        "\n",
        "if x == 'Hello World!':\n",
        "  print(\"var x is Hello World!\")\n",
        "else:\n",
        "  print(\"var x is not Hello World\")"
      ],
      "metadata": {
        "id": "coeR748_7z79"
      },
      "execution_count": null,
      "outputs": []
    },
    {
      "cell_type": "markdown",
      "source": [
        " **Numerical Conditions**"
      ],
      "metadata": {
        "id": "bxOo5d8L8Li3"
      }
    },
    {
      "cell_type": "code",
      "source": [
        "x = 10\n",
        "\n",
        "if x =='10':\n",
        "  print(\"var x is a string\")\n",
        "elif x == 10:\n",
        "  print(\"var x is an integer\")\n",
        "else:\n",
        "  print(\"var x is none of the above\")"
      ],
      "metadata": {
        "colab": {
          "base_uri": "https://localhost:8080/"
        },
        "id": "HP5bt_Y68PmV",
        "outputId": "9352af17-79ab-4bad-f616-53e5fcafeeaf"
      },
      "execution_count": 12,
      "outputs": [
        {
          "output_type": "stream",
          "name": "stdout",
          "text": [
            "var x is an integer\n"
          ]
        }
      ]
    },
    {
      "cell_type": "markdown",
      "source": [
        "## **Loops**"
      ],
      "metadata": {
        "id": "E-vUqbXADKfj"
      }
    },
    {
      "cell_type": "markdown",
      "source": [
        "**For Loops**"
      ],
      "metadata": {
        "id": "Q8KZyZPM9U8F"
      }
    },
    {
      "cell_type": "code",
      "source": [
        "for var in range(0, 5, 2):\n",
        "  print(var)"
      ],
      "metadata": {
        "colab": {
          "base_uri": "https://localhost:8080/"
        },
        "id": "gdoWU4yA9XLM",
        "outputId": "79c843b0-a66b-49e4-cb27-6695a33edf68"
      },
      "execution_count": 32,
      "outputs": [
        {
          "output_type": "stream",
          "name": "stdout",
          "text": [
            "0\n",
            "2\n",
            "4\n"
          ]
        }
      ]
    },
    {
      "cell_type": "markdown",
      "source": [
        "**While Loops**"
      ],
      "metadata": {
        "id": "IxAw_L4H9ekE"
      }
    },
    {
      "cell_type": "code",
      "source": [
        "var = 0\n",
        "while var < 5:\n",
        "  print(var)\n",
        "  var += 2"
      ],
      "metadata": {
        "colab": {
          "base_uri": "https://localhost:8080/"
        },
        "id": "0zLaoykg9hvc",
        "outputId": "54623b68-2d1b-43b9-99d1-024533231b3d"
      },
      "execution_count": 33,
      "outputs": [
        {
          "output_type": "stream",
          "name": "stdout",
          "text": [
            "0\n",
            "2\n",
            "4\n"
          ]
        }
      ]
    },
    {
      "cell_type": "markdown",
      "source": [
        " **Nested Loops**"
      ],
      "metadata": {
        "id": "k5FrAKB89my8"
      }
    },
    {
      "cell_type": "code",
      "source": [
        "x = 0\n",
        "while x < 5:\n",
        "  for y in range(0, x):\n",
        "    print(7, end='')\n",
        "  x += 1\n",
        "  print()"
      ],
      "metadata": {
        "colab": {
          "base_uri": "https://localhost:8080/"
        },
        "id": "l6SWRTpR9og8",
        "outputId": "d4b7848d-db99-41d5-b857-cd649db0e6fe"
      },
      "execution_count": 34,
      "outputs": [
        {
          "output_type": "stream",
          "name": "stdout",
          "text": [
            "\n",
            "7\n",
            "77\n",
            "777\n",
            "7777\n"
          ]
        }
      ]
    },
    {
      "cell_type": "markdown",
      "source": [
        "# **List**"
      ],
      "metadata": {
        "id": "K3aamenk_1YU"
      }
    },
    {
      "cell_type": "code",
      "source": [
        "pi = 3.14159\n",
        "varlist = [1, 2, 'A', '8', 'Hello', pi]\n",
        "print(varlist[0])\n",
        "print(varlist[4])\n",
        "varlist.append('World!')\n",
        "print(varlist[6])\n",
        "len(varlist)\n",
        "print(varlist[5])\n",
        "varlist.remove(pi)\n",
        "print(varlist[5])"
      ],
      "metadata": {
        "colab": {
          "base_uri": "https://localhost:8080/"
        },
        "id": "BjtEtvKZ_3yl",
        "outputId": "0b5306e5-1edc-42f9-ef06-03a45d16691d"
      },
      "execution_count": 19,
      "outputs": [
        {
          "output_type": "stream",
          "name": "stdout",
          "text": [
            "1\n",
            "Hello\n",
            "World!\n",
            "3.14159\n",
            "World!\n"
          ]
        }
      ]
    },
    {
      "cell_type": "markdown",
      "source": [
        "# **Dictionaries**"
      ],
      "metadata": {
        "id": "t3_8dlOTB76M"
      }
    },
    {
      "cell_type": "code",
      "source": [
        "var = \"Hello World!\"\n",
        "varDict = {'first' : 123, 2 : 'abc', '3' : var, 4 : ['lista', 'listb']}\n",
        "print(varDict['first'])\n",
        "print(varDict[2])\n",
        "print(varDict['3'])\n",
        "print(varDict[4])\n",
        "print(varDict[4][1])\n",
        "len(varDict)"
      ],
      "metadata": {
        "colab": {
          "base_uri": "https://localhost:8080/"
        },
        "id": "C_1XfbF7B-ZM",
        "outputId": "467d3e2e-ae91-4b49-898f-2ec50d443d3e"
      },
      "execution_count": 16,
      "outputs": [
        {
          "output_type": "stream",
          "name": "stdout",
          "text": [
            "123\n",
            "abc\n",
            "Hello World!\n",
            "['lista', 'listb']\n",
            "listb\n"
          ]
        },
        {
          "output_type": "execute_result",
          "data": {
            "text/plain": [
              "4"
            ]
          },
          "metadata": {},
          "execution_count": 16
        }
      ]
    },
    {
      "cell_type": "markdown",
      "source": [
        "# **List Generators and Comprehension**"
      ],
      "metadata": {
        "id": "SbpiyB9SGHtD"
      }
    },
    {
      "cell_type": "code",
      "source": [
        "def gen_num_up_to(n):\n",
        "  num = 0\n",
        "  while num < n:\n",
        "    yield num\n",
        "    num += 1\n",
        "\n",
        "gen_num_up_to(5)\n",
        "\n",
        "varlist = gen_num_up_to(5)\n",
        "print([var for var in varlist])"
      ],
      "metadata": {
        "colab": {
          "base_uri": "https://localhost:8080/"
        },
        "id": "xRMo0MYFFJJ8",
        "outputId": "f07b2cc1-8c30-4729-be17-d74e1b67be56"
      },
      "execution_count": 26,
      "outputs": [
        {
          "output_type": "stream",
          "name": "stdout",
          "text": [
            "[0, 1, 2, 3, 4]\n"
          ]
        }
      ]
    },
    {
      "cell_type": "code",
      "source": [
        "def gen_num_up_to(n):\n",
        "  num = 0\n",
        "  while num < n:\n",
        "    yield num\n",
        "    num += 2\n",
        "\n",
        "varlist = gen_num_up_to(5)\n",
        "print([var for var in varlist])\n",
        "\n",
        "varlist = range(0, 5, 2)\n",
        "print([var for var in varlist])"
      ],
      "metadata": {
        "colab": {
          "base_uri": "https://localhost:8080/"
        },
        "id": "fw-HfAgQFrjr",
        "outputId": "e7eb11fa-f825-4235-9af6-65d12615e18b"
      },
      "execution_count": 27,
      "outputs": [
        {
          "output_type": "stream",
          "name": "stdout",
          "text": [
            "[0, 2, 4]\n",
            "[0, 2, 4]\n"
          ]
        }
      ]
    },
    {
      "cell_type": "markdown",
      "source": [
        "# **Slicing**"
      ],
      "metadata": {
        "id": "MOcuW_XZGm2r"
      }
    },
    {
      "cell_type": "code",
      "source": [
        "varList = [1, 2, 3, 4, 5, 6, 7, 8, 9, 10]\n",
        "print(varList[:5])\n",
        "print(varList[5:])\n",
        "print(varList[:-2])\n",
        "print(varList[-2:])\n",
        "print(varList[2:-2])\n",
        "print(varList[2:8:2])"
      ],
      "metadata": {
        "colab": {
          "base_uri": "https://localhost:8080/"
        },
        "id": "xffR5c0CGve7",
        "outputId": "f5b62ac9-e01b-4e5e-a97c-ac0fbf98c1de"
      },
      "execution_count": 31,
      "outputs": [
        {
          "output_type": "stream",
          "name": "stdout",
          "text": [
            "[1, 2, 3, 4, 5]\n",
            "[6, 7, 8, 9, 10]\n",
            "[1, 2, 3, 4, 5, 6, 7, 8]\n",
            "[9, 10]\n",
            "[3, 4, 5, 6, 7, 8]\n",
            "[3, 5, 7]\n"
          ]
        }
      ]
    },
    {
      "cell_type": "markdown",
      "source": [
        "# **Function**"
      ],
      "metadata": {
        "id": "j_ZF5cIiISza"
      }
    },
    {
      "cell_type": "code",
      "source": [
        "def remainder(n, m):\n",
        "  while True:\n",
        "    if n - m < 0:\n",
        "      return n\n",
        "    else:\n",
        "      n = n - m\n",
        "\n",
        "remainder(10, 4)"
      ],
      "metadata": {
        "colab": {
          "base_uri": "https://localhost:8080/"
        },
        "id": "AL2MNCWFIUe6",
        "outputId": "4fb1e126-8532-40b9-b68a-0ce9930e52cc"
      },
      "execution_count": 36,
      "outputs": [
        {
          "output_type": "execute_result",
          "data": {
            "text/plain": [
              "2"
            ]
          },
          "metadata": {},
          "execution_count": 36
        }
      ]
    }
  ]
}