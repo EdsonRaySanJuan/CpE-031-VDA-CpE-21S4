{
  "nbformat": 4,
  "nbformat_minor": 0,
  "metadata": {
    "colab": {
      "provenance": [],
      "authorship_tag": "ABX9TyPgDK4q6TZUUniwUJZQDx9C",
      "include_colab_link": true
    },
    "kernelspec": {
      "name": "python3",
      "display_name": "Python 3"
    },
    "language_info": {
      "name": "python"
    }
  },
  "cells": [
    {
      "cell_type": "markdown",
      "metadata": {
        "id": "view-in-github",
        "colab_type": "text"
      },
      "source": [
        "<a href=\"https://colab.research.google.com/github/EdsonRaySanJuan/CpE-031-VDA-CpE-21S4/blob/main/Prelim_Q12.ipynb\" target=\"_parent\"><img src=\"https://colab.research.google.com/assets/colab-badge.svg\" alt=\"Open In Colab\"/></a>"
      ]
    },
    {
      "cell_type": "code",
      "execution_count": 10,
      "metadata": {
        "colab": {
          "base_uri": "https://localhost:8080/"
        },
        "id": "6fzUw4hWEHBV",
        "outputId": "50a260d9-3ab6-4ef9-e557-ee97dafc10f1"
      },
      "outputs": [
        {
          "output_type": "stream",
          "name": "stdout",
          "text": [
            "Original DataFrame\n",
            "   col1  col2  col3\n",
            "0     1     4     7\n",
            "1     4     5     8\n",
            "2     3     6     9\n",
            "3     4     7     0\n",
            "4     5     8     1\n",
            "\n",
            "New DataFrame\n",
            "   col1  col2  col3\n",
            "0     1     4     7\n",
            "2     3     6     9\n",
            "3     4     7     0\n",
            "4     5     8     1\n"
          ]
        }
      ],
      "source": [
        "import pandas as pd\n",
        "\n",
        "data = {\n",
        "    \"col1\": [1, 4, 3, 4, 5],\n",
        "    \"col2\": [4, 5, 6, 7, 8],\n",
        "    \"col3\": [7, 8, 9, 0, 1]\n",
        "}\n",
        "\n",
        "print(\"Original DataFrame\")\n",
        "df = pd.DataFrame(data)\n",
        "print(df)\n",
        "\n",
        "# delete row 1\n",
        "print(\"\\nNew DataFrame\")\n",
        "df = pd.DataFrame(data)\n",
        "print(df.drop(1))"
      ]
    }
  ]
}