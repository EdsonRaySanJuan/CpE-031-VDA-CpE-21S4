{
  "nbformat": 4,
  "nbformat_minor": 0,
  "metadata": {
    "colab": {
      "provenance": [],
      "authorship_tag": "ABX9TyOMkua6qzlDaYySo0iMsq6A",
      "include_colab_link": true
    },
    "kernelspec": {
      "name": "python3",
      "display_name": "Python 3"
    },
    "language_info": {
      "name": "python"
    }
  },
  "cells": [
    {
      "cell_type": "markdown",
      "metadata": {
        "id": "view-in-github",
        "colab_type": "text"
      },
      "source": [
        "<a href=\"https://colab.research.google.com/github/EdsonRaySanJuan/CpE-031-VDA-CpE-21S4/blob/main/Challenge_2_Coin_Flip.ipynb\" target=\"_parent\"><img src=\"https://colab.research.google.com/assets/colab-badge.svg\" alt=\"Open In Colab\"/></a>"
      ]
    },
    {
      "cell_type": "code",
      "execution_count": 4,
      "metadata": {
        "colab": {
          "base_uri": "https://localhost:8080/"
        },
        "id": "KllJIIzV3kfC",
        "outputId": "925ceca2-d63b-4a3f-b88f-bf0280027dd8"
      },
      "outputs": [
        {
          "output_type": "stream",
          "name": "stdout",
          "text": [
            "Coin Flip!\n",
            "Number of coin flips: 5\n",
            "[0, 1, 1, 0, 0]\n"
          ]
        }
      ],
      "source": [
        "import numpy as np\n",
        "\n",
        "print(\"Coin Flip!\")\n",
        "\n",
        "def coin_flip(n):\n",
        "  for i in range(n):\n",
        "    yield np.random.randint(0, 2)\n",
        "\n",
        "n = int(input(\"Number of coin flips: \"))\n",
        "result = coin_flip(n)\n",
        "print([var for var in result])\n",
        "\n",
        "\n"
      ]
    }
  ]
}