{
  "nbformat": 4,
  "nbformat_minor": 0,
  "metadata": {
    "colab": {
      "provenance": [],
      "authorship_tag": "ABX9TyN0MBRPBvJLzmnN0GX32zG0",
      "include_colab_link": true
    },
    "kernelspec": {
      "name": "python3",
      "display_name": "Python 3"
    },
    "language_info": {
      "name": "python"
    }
  },
  "cells": [
    {
      "cell_type": "markdown",
      "metadata": {
        "id": "view-in-github",
        "colab_type": "text"
      },
      "source": [
        "<a href=\"https://colab.research.google.com/github/EdsonRaySanJuan/CpE-031-VDA-CpE-21S4/blob/main/Exercise_2.ipynb\" target=\"_parent\"><img src=\"https://colab.research.google.com/assets/colab-badge.svg\" alt=\"Open In Colab\"/></a>"
      ]
    },
    {
      "cell_type": "markdown",
      "source": [
        "Example 1"
      ],
      "metadata": {
        "id": "prvUxDcDykcv"
      }
    },
    {
      "cell_type": "code",
      "execution_count": 6,
      "metadata": {
        "colab": {
          "base_uri": "https://localhost:8080/"
        },
        "id": "YSgmvOAbxKcg",
        "outputId": "e1c7b59c-cae9-476e-bba5-b382528f1779"
      },
      "outputs": [
        {
          "output_type": "stream",
          "name": "stdout",
          "text": [
            "  animals  height\n",
            "0     Cat      13\n",
            "1     Dog      17\n",
            "2  Rabbit       8\n"
          ]
        }
      ],
      "source": [
        "import pandas\n",
        "\n",
        "mydataset = {\n",
        "    'animals':[\"Cat\", \"Dog\", \"Rabbit\"],\n",
        "    'height':[13, 17, 8]\n",
        "}\n",
        "\n",
        "myvar = pandas.DataFrame(mydataset)\n",
        "\n",
        "print(myvar)"
      ]
    },
    {
      "cell_type": "markdown",
      "source": [
        "Example 2\n"
      ],
      "metadata": {
        "id": "gDL1-37i2iQC"
      }
    },
    {
      "cell_type": "code",
      "source": [
        "import pandas as pd\n",
        "\n",
        "a = [1, 7, 2]\n",
        "\n",
        "myvar = pd.Series(a)\n",
        "\n",
        "print(myvar[1])"
      ],
      "metadata": {
        "colab": {
          "base_uri": "https://localhost:8080/"
        },
        "id": "kif4DFBC2oj4",
        "outputId": "bed175b9-00f8-4a4b-96d1-c97831edc7a9"
      },
      "execution_count": 30,
      "outputs": [
        {
          "output_type": "stream",
          "name": "stdout",
          "text": [
            "7\n"
          ]
        }
      ]
    },
    {
      "cell_type": "markdown",
      "source": [
        "Example 3"
      ],
      "metadata": {
        "id": "wFtC4Aa579uv"
      }
    },
    {
      "cell_type": "code",
      "source": [
        "import pandas as pd\n",
        "\n",
        "data = {\n",
        "    \"age\": [42, 38, 39],\n",
        "    \"weight\": [50, 40, 45]\n",
        "}\n",
        "\n",
        "myvar = pd.DataFrame(data)\n",
        "\n",
        "print(myvar.loc[[0,1,2]])"
      ],
      "metadata": {
        "colab": {
          "base_uri": "https://localhost:8080/"
        },
        "id": "-9FY6fVE7-8N",
        "outputId": "66554ef9-f501-4bd3-a72f-a844273ff367"
      },
      "execution_count": 38,
      "outputs": [
        {
          "output_type": "stream",
          "name": "stdout",
          "text": [
            "   age  weight\n",
            "0   42      50\n",
            "1   38      40\n",
            "2   39      45\n"
          ]
        }
      ]
    },
    {
      "cell_type": "code",
      "source": [
        "import pandas as pd\n",
        "\n",
        "data = {\n",
        "\"age\": [42,38,39],\n",
        "\"weight\":[50,40,45]\n",
        "}\n",
        "\n",
        "myvar = pd.DataFrame(data)\n",
        "print(myvar.loc[0])"
      ],
      "metadata": {
        "colab": {
          "base_uri": "https://localhost:8080/"
        },
        "id": "btlBxD0zNC68",
        "outputId": "4b8fac59-e4d3-49ed-8e9a-b91548b67462"
      },
      "execution_count": 77,
      "outputs": [
        {
          "output_type": "stream",
          "name": "stdout",
          "text": [
            "age       42\n",
            "weight    50\n",
            "Name: 0, dtype: int64\n"
          ]
        }
      ]
    },
    {
      "cell_type": "markdown",
      "source": [
        "Example 4"
      ],
      "metadata": {
        "id": "56WbYACL_cqu"
      }
    },
    {
      "cell_type": "code",
      "source": [
        "import pandas as pd\n",
        "\n",
        "#series using data frames\n",
        "s1 = pd.Series([0, 4, 8])\n",
        "s2 = pd.Series([1, 5, 9])\n",
        "s3 = pd.Series([2, 6, 10])\n",
        "dframe = pd.DataFrame([s1, s2, s3])\n",
        "print(dframe)"
      ],
      "metadata": {
        "colab": {
          "base_uri": "https://localhost:8080/"
        },
        "id": "auYaQVnQ_epp",
        "outputId": "bdcbca72-2568-43d5-af98-251062e8c57d"
      },
      "execution_count": 79,
      "outputs": [
        {
          "output_type": "stream",
          "name": "stdout",
          "text": [
            "   0  1   2\n",
            "0  0  4   8\n",
            "1  1  5   9\n",
            "2  2  6  10\n"
          ]
        }
      ]
    },
    {
      "cell_type": "markdown",
      "source": [
        "Example 5"
      ],
      "metadata": {
        "id": "etB_hSboGLhW"
      }
    },
    {
      "cell_type": "code",
      "source": [
        "import pandas as pd\n",
        "s1 = pd.Series([0,4,8])\n",
        "s2 = pd.Series([1,5,9])\n",
        "s3 = pd.Series([2,6,10])\n",
        "s4 = pd.Series([5,10,15])\n",
        "\n",
        "#creating multi-dimensional table\n",
        "dframe = pd.DataFrame([s1,s2,s3,s4],index =[0,1,2,3], columns =[0,1,2])\n",
        "print(dframe)"
      ],
      "metadata": {
        "colab": {
          "base_uri": "https://localhost:8080/"
        },
        "id": "HW15UVIGDlah",
        "outputId": "8f18d476-2785-47db-8ff5-720e89912afe"
      },
      "execution_count": 80,
      "outputs": [
        {
          "output_type": "stream",
          "name": "stdout",
          "text": [
            "   0   1   2\n",
            "0  0   4   8\n",
            "1  1   5   9\n",
            "2  2   6  10\n",
            "3  5  10  15\n"
          ]
        }
      ]
    },
    {
      "cell_type": "markdown",
      "source": [
        "Challenge 2"
      ],
      "metadata": {
        "id": "fT-ULesTJqw3"
      }
    },
    {
      "cell_type": "code",
      "source": [
        "import pandas as pd\n",
        "s1 = pd.Series([0,4,8])\n",
        "s2 = pd.Series([1,5,9])\n",
        "s3 = pd.Series([2,6,10])\n",
        "s4 = pd.Series([5,10,15])\n",
        "\n",
        "dframe = pd.DataFrame([s1,s2,s3,s4],index =[0,1,2,3], columns =[0,1,2])\n",
        "\n",
        "df = dframe.drop([0,1,3])\n",
        "print(df)"
      ],
      "metadata": {
        "colab": {
          "base_uri": "https://localhost:8080/"
        },
        "id": "LzdNXmceIpmQ",
        "outputId": "8883a555-6632-45d8-a7c8-50ec7cb308bd"
      },
      "execution_count": 81,
      "outputs": [
        {
          "output_type": "stream",
          "name": "stdout",
          "text": [
            "   0  1   2\n",
            "2  2  6  10\n"
          ]
        }
      ]
    }
  ]
}