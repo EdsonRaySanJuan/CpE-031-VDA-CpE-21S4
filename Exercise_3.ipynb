{
  "nbformat": 4,
  "nbformat_minor": 0,
  "metadata": {
    "colab": {
      "provenance": [],
      "authorship_tag": "ABX9TyMlep/xikOv/O6VNxGSzAOM",
      "include_colab_link": true
    },
    "kernelspec": {
      "name": "python3",
      "display_name": "Python 3"
    },
    "language_info": {
      "name": "python"
    }
  },
  "cells": [
    {
      "cell_type": "markdown",
      "metadata": {
        "id": "view-in-github",
        "colab_type": "text"
      },
      "source": [
        "<a href=\"https://colab.research.google.com/github/EdsonRaySanJuan/CpE-031-VDA-CpE-21S4/blob/main/Exercise_3.ipynb\" target=\"_parent\"><img src=\"https://colab.research.google.com/assets/colab-badge.svg\" alt=\"Open In Colab\"/></a>"
      ]
    },
    {
      "cell_type": "code",
      "execution_count": 4,
      "metadata": {
        "colab": {
          "base_uri": "https://localhost:8080/"
        },
        "id": "wGK0mFHAuz4Y",
        "outputId": "d2682600-7e40-46e4-ab47-58b3aef33e9d"
      },
      "outputs": [
        {
          "output_type": "stream",
          "name": "stdout",
          "text": [
            "Requirement already satisfied: pandas in /usr/local/lib/python3.10/dist-packages (2.1.4)\n",
            "Requirement already satisfied: numpy<2,>=1.22.4 in /usr/local/lib/python3.10/dist-packages (from pandas) (1.26.4)\n",
            "Requirement already satisfied: python-dateutil>=2.8.2 in /usr/local/lib/python3.10/dist-packages (from pandas) (2.8.2)\n",
            "Requirement already satisfied: pytz>=2020.1 in /usr/local/lib/python3.10/dist-packages (from pandas) (2024.1)\n",
            "Requirement already satisfied: tzdata>=2022.1 in /usr/local/lib/python3.10/dist-packages (from pandas) (2024.1)\n",
            "Requirement already satisfied: six>=1.5 in /usr/local/lib/python3.10/dist-packages (from python-dateutil>=2.8.2->pandas) (1.16.0)\n"
          ]
        }
      ],
      "source": [
        "#import csv file using Pandas\n",
        "!pip install pandas"
      ]
    },
    {
      "cell_type": "code",
      "source": [
        "from google.colab import files\n",
        "\n",
        "upload_file = files.upload()"
      ],
      "metadata": {
        "colab": {
          "base_uri": "https://localhost:8080/",
          "height": 73
        },
        "id": "fYIlHLuPxy0f",
        "outputId": "577d507d-2844-41f1-93c4-d26f99217244"
      },
      "execution_count": 17,
      "outputs": [
        {
          "output_type": "display_data",
          "data": {
            "text/plain": [
              "<IPython.core.display.HTML object>"
            ],
            "text/html": [
              "\n",
              "     <input type=\"file\" id=\"files-939c1c43-2702-4529-823e-944ad4678339\" name=\"files[]\" multiple disabled\n",
              "        style=\"border:none\" />\n",
              "     <output id=\"result-939c1c43-2702-4529-823e-944ad4678339\">\n",
              "      Upload widget is only available when the cell has been executed in the\n",
              "      current browser session. Please rerun this cell to enable.\n",
              "      </output>\n",
              "      <script>// Copyright 2017 Google LLC\n",
              "//\n",
              "// Licensed under the Apache License, Version 2.0 (the \"License\");\n",
              "// you may not use this file except in compliance with the License.\n",
              "// You may obtain a copy of the License at\n",
              "//\n",
              "//      http://www.apache.org/licenses/LICENSE-2.0\n",
              "//\n",
              "// Unless required by applicable law or agreed to in writing, software\n",
              "// distributed under the License is distributed on an \"AS IS\" BASIS,\n",
              "// WITHOUT WARRANTIES OR CONDITIONS OF ANY KIND, either express or implied.\n",
              "// See the License for the specific language governing permissions and\n",
              "// limitations under the License.\n",
              "\n",
              "/**\n",
              " * @fileoverview Helpers for google.colab Python module.\n",
              " */\n",
              "(function(scope) {\n",
              "function span(text, styleAttributes = {}) {\n",
              "  const element = document.createElement('span');\n",
              "  element.textContent = text;\n",
              "  for (const key of Object.keys(styleAttributes)) {\n",
              "    element.style[key] = styleAttributes[key];\n",
              "  }\n",
              "  return element;\n",
              "}\n",
              "\n",
              "// Max number of bytes which will be uploaded at a time.\n",
              "const MAX_PAYLOAD_SIZE = 100 * 1024;\n",
              "\n",
              "function _uploadFiles(inputId, outputId) {\n",
              "  const steps = uploadFilesStep(inputId, outputId);\n",
              "  const outputElement = document.getElementById(outputId);\n",
              "  // Cache steps on the outputElement to make it available for the next call\n",
              "  // to uploadFilesContinue from Python.\n",
              "  outputElement.steps = steps;\n",
              "\n",
              "  return _uploadFilesContinue(outputId);\n",
              "}\n",
              "\n",
              "// This is roughly an async generator (not supported in the browser yet),\n",
              "// where there are multiple asynchronous steps and the Python side is going\n",
              "// to poll for completion of each step.\n",
              "// This uses a Promise to block the python side on completion of each step,\n",
              "// then passes the result of the previous step as the input to the next step.\n",
              "function _uploadFilesContinue(outputId) {\n",
              "  const outputElement = document.getElementById(outputId);\n",
              "  const steps = outputElement.steps;\n",
              "\n",
              "  const next = steps.next(outputElement.lastPromiseValue);\n",
              "  return Promise.resolve(next.value.promise).then((value) => {\n",
              "    // Cache the last promise value to make it available to the next\n",
              "    // step of the generator.\n",
              "    outputElement.lastPromiseValue = value;\n",
              "    return next.value.response;\n",
              "  });\n",
              "}\n",
              "\n",
              "/**\n",
              " * Generator function which is called between each async step of the upload\n",
              " * process.\n",
              " * @param {string} inputId Element ID of the input file picker element.\n",
              " * @param {string} outputId Element ID of the output display.\n",
              " * @return {!Iterable<!Object>} Iterable of next steps.\n",
              " */\n",
              "function* uploadFilesStep(inputId, outputId) {\n",
              "  const inputElement = document.getElementById(inputId);\n",
              "  inputElement.disabled = false;\n",
              "\n",
              "  const outputElement = document.getElementById(outputId);\n",
              "  outputElement.innerHTML = '';\n",
              "\n",
              "  const pickedPromise = new Promise((resolve) => {\n",
              "    inputElement.addEventListener('change', (e) => {\n",
              "      resolve(e.target.files);\n",
              "    });\n",
              "  });\n",
              "\n",
              "  const cancel = document.createElement('button');\n",
              "  inputElement.parentElement.appendChild(cancel);\n",
              "  cancel.textContent = 'Cancel upload';\n",
              "  const cancelPromise = new Promise((resolve) => {\n",
              "    cancel.onclick = () => {\n",
              "      resolve(null);\n",
              "    };\n",
              "  });\n",
              "\n",
              "  // Wait for the user to pick the files.\n",
              "  const files = yield {\n",
              "    promise: Promise.race([pickedPromise, cancelPromise]),\n",
              "    response: {\n",
              "      action: 'starting',\n",
              "    }\n",
              "  };\n",
              "\n",
              "  cancel.remove();\n",
              "\n",
              "  // Disable the input element since further picks are not allowed.\n",
              "  inputElement.disabled = true;\n",
              "\n",
              "  if (!files) {\n",
              "    return {\n",
              "      response: {\n",
              "        action: 'complete',\n",
              "      }\n",
              "    };\n",
              "  }\n",
              "\n",
              "  for (const file of files) {\n",
              "    const li = document.createElement('li');\n",
              "    li.append(span(file.name, {fontWeight: 'bold'}));\n",
              "    li.append(span(\n",
              "        `(${file.type || 'n/a'}) - ${file.size} bytes, ` +\n",
              "        `last modified: ${\n",
              "            file.lastModifiedDate ? file.lastModifiedDate.toLocaleDateString() :\n",
              "                                    'n/a'} - `));\n",
              "    const percent = span('0% done');\n",
              "    li.appendChild(percent);\n",
              "\n",
              "    outputElement.appendChild(li);\n",
              "\n",
              "    const fileDataPromise = new Promise((resolve) => {\n",
              "      const reader = new FileReader();\n",
              "      reader.onload = (e) => {\n",
              "        resolve(e.target.result);\n",
              "      };\n",
              "      reader.readAsArrayBuffer(file);\n",
              "    });\n",
              "    // Wait for the data to be ready.\n",
              "    let fileData = yield {\n",
              "      promise: fileDataPromise,\n",
              "      response: {\n",
              "        action: 'continue',\n",
              "      }\n",
              "    };\n",
              "\n",
              "    // Use a chunked sending to avoid message size limits. See b/62115660.\n",
              "    let position = 0;\n",
              "    do {\n",
              "      const length = Math.min(fileData.byteLength - position, MAX_PAYLOAD_SIZE);\n",
              "      const chunk = new Uint8Array(fileData, position, length);\n",
              "      position += length;\n",
              "\n",
              "      const base64 = btoa(String.fromCharCode.apply(null, chunk));\n",
              "      yield {\n",
              "        response: {\n",
              "          action: 'append',\n",
              "          file: file.name,\n",
              "          data: base64,\n",
              "        },\n",
              "      };\n",
              "\n",
              "      let percentDone = fileData.byteLength === 0 ?\n",
              "          100 :\n",
              "          Math.round((position / fileData.byteLength) * 100);\n",
              "      percent.textContent = `${percentDone}% done`;\n",
              "\n",
              "    } while (position < fileData.byteLength);\n",
              "  }\n",
              "\n",
              "  // All done.\n",
              "  yield {\n",
              "    response: {\n",
              "      action: 'complete',\n",
              "    }\n",
              "  };\n",
              "}\n",
              "\n",
              "scope.google = scope.google || {};\n",
              "scope.google.colab = scope.google.colab || {};\n",
              "scope.google.colab._files = {\n",
              "  _uploadFiles,\n",
              "  _uploadFilesContinue,\n",
              "};\n",
              "})(self);\n",
              "</script> "
            ]
          },
          "metadata": {}
        },
        {
          "output_type": "stream",
          "name": "stdout",
          "text": [
            "Saving Grade.csv to Grade.csv\n"
          ]
        }
      ]
    },
    {
      "cell_type": "code",
      "source": [
        "import pandas as pd\n",
        "\n",
        "df = pd.read_csv('Grade.csv')\n",
        "print(df)\n"
      ],
      "metadata": {
        "colab": {
          "base_uri": "https://localhost:8080/"
        },
        "id": "wHDFQ_XfzscX",
        "outputId": "e80d9d69-70a1-4df1-8f4d-65fe4f3cd772"
      },
      "execution_count": 18,
      "outputs": [
        {
          "output_type": "stream",
          "name": "stdout",
          "text": [
            "    CpE 0323-1  Quiz 1  Python Fundamentals  Conditional Statements  \\\n",
            "0         Name      50                  100                     100   \n",
            "1    STUDENT 1      33                  100                     100   \n",
            "2    STUDENT 2      22                  100                     100   \n",
            "3    STUDENT 3      42                  100                     100   \n",
            "4    STUDENT 4      34                  100                     100   \n",
            "5    STUDENT 5      38                  100                     100   \n",
            "6    STUDENT 6      30                  100                     100   \n",
            "7    STUDENT 7      24                  100                     100   \n",
            "8    STUDENT 8      37                  100                     100   \n",
            "9    STUDENT 9       0                  100                     100   \n",
            "10  STUDENT 10      43                  100                     100   \n",
            "11  STUDENT 11      35                  100                     100   \n",
            "12  STUDENT 12      41                  100                     100   \n",
            "13  STUDENT 13      37                  100                     100   \n",
            "14  STUDENT 14       0                  100                     100   \n",
            "15  STUDENT 15      37                  100                     100   \n",
            "16  STUDENT 16      31                  100                     100   \n",
            "17  STUDENT 17      28                  100                     100   \n",
            "18  STUDENT 18      43                  100                     100   \n",
            "19  STUDENT 19      35                  100                     100   \n",
            "20  STUDENT 20      31                  100                     100   \n",
            "21  STUDENT 20      31                  100                     100   \n",
            "22  STUDENT 22      35                  100                     100   \n",
            "23  STUDENT 23      31                  100                     100   \n",
            "24  STUDENT 24       0                  100                     100   \n",
            "25  STUDENT 25      31                  100                     100   \n",
            "26  STUDENT 26       0                  100                     100   \n",
            "27  STUDENT 27      40                  100                     100   \n",
            "28  STUDENT 28      40                  100                     100   \n",
            "29  STUDENT 29      36                  100                     100   \n",
            "\n",
            "    Loop Statement  Data Structure  Image Acquisition  Lab 1  Lab 2  Lab 3  \\\n",
            "0              100             100                100    100    100    100   \n",
            "1              100             100                100     90     90     90   \n",
            "2              100             100                100     80     75     75   \n",
            "3              100             100                100     90     80     90   \n",
            "4              100             100                100     80     75     75   \n",
            "5              100             100                100     90     80     90   \n",
            "6              100             100                100     80     75     75   \n",
            "7              100             100                100     90     80     90   \n",
            "8              100             100                100     90     80     90   \n",
            "9              100             100                100     90     90     90   \n",
            "10             100             100                100     95     95     95   \n",
            "11             100             100                100     90     90     90   \n",
            "12             100             100                100     90     90     90   \n",
            "13             100             100                100     90     90     90   \n",
            "14              75             100                100     95     95     95   \n",
            "15             100              75                 75     90     80     90   \n",
            "16             100             100                100     90     80     90   \n",
            "17             100             100                100     90     80     90   \n",
            "18             100             100                100     90     80     90   \n",
            "19             100             100                100     90     90     90   \n",
            "20             100             100                100     90     90     90   \n",
            "21             100             100                100     90     90     90   \n",
            "22             100             100                100     90     90     90   \n",
            "23             100             100                100     80     75     75   \n",
            "24              75              75                 75     90     80     90   \n",
            "25             100             100                100     95     95     95   \n",
            "26              75              75                 75     90     80     90   \n",
            "27             100             100                100     80     75     75   \n",
            "28             100             100                100     90     90     90   \n",
            "29             100             100                100     90     90     90   \n",
            "\n",
            "    Lab 4  Lab 5  \n",
            "0     100    100  \n",
            "1      90     90  \n",
            "2      75     95  \n",
            "3      90     90  \n",
            "4      75     95  \n",
            "5      90     90  \n",
            "6      75     95  \n",
            "7      90     90  \n",
            "8      90     95  \n",
            "9      90     90  \n",
            "10     95     80  \n",
            "11     90     90  \n",
            "12     90     90  \n",
            "13     90     90  \n",
            "14     95     80  \n",
            "15     90     90  \n",
            "16     90     90  \n",
            "17     90     95  \n",
            "18     90     95  \n",
            "19     90     90  \n",
            "20     90     90  \n",
            "21     90     90  \n",
            "22     90     90  \n",
            "23     75     95  \n",
            "24     90     95  \n",
            "25     95     80  \n",
            "26     90     95  \n",
            "27     75     95  \n",
            "28     90     90  \n",
            "29     90     90  \n"
          ]
        }
      ]
    },
    {
      "cell_type": "code",
      "source": [
        "import pandas as pd\n",
        "\n",
        "df = pd.read_csv('Grade.csv')\n",
        "print(df.head(10))"
      ],
      "metadata": {
        "colab": {
          "base_uri": "https://localhost:8080/"
        },
        "id": "krBVhhsC0UFu",
        "outputId": "441c5669-e7e3-48ca-ba6b-2823efd01d41"
      },
      "execution_count": 19,
      "outputs": [
        {
          "output_type": "stream",
          "name": "stdout",
          "text": [
            "  CpE 0323-1  Quiz 1  Python Fundamentals  Conditional Statements  \\\n",
            "0       Name      50                  100                     100   \n",
            "1  STUDENT 1      33                  100                     100   \n",
            "2  STUDENT 2      22                  100                     100   \n",
            "3  STUDENT 3      42                  100                     100   \n",
            "4  STUDENT 4      34                  100                     100   \n",
            "5  STUDENT 5      38                  100                     100   \n",
            "6  STUDENT 6      30                  100                     100   \n",
            "7  STUDENT 7      24                  100                     100   \n",
            "8  STUDENT 8      37                  100                     100   \n",
            "9  STUDENT 9       0                  100                     100   \n",
            "\n",
            "   Loop Statement  Data Structure  Image Acquisition  Lab 1  Lab 2  Lab 3  \\\n",
            "0             100             100                100    100    100    100   \n",
            "1             100             100                100     90     90     90   \n",
            "2             100             100                100     80     75     75   \n",
            "3             100             100                100     90     80     90   \n",
            "4             100             100                100     80     75     75   \n",
            "5             100             100                100     90     80     90   \n",
            "6             100             100                100     80     75     75   \n",
            "7             100             100                100     90     80     90   \n",
            "8             100             100                100     90     80     90   \n",
            "9             100             100                100     90     90     90   \n",
            "\n",
            "   Lab 4  Lab 5  \n",
            "0    100    100  \n",
            "1     90     90  \n",
            "2     75     95  \n",
            "3     90     90  \n",
            "4     75     95  \n",
            "5     90     90  \n",
            "6     75     95  \n",
            "7     90     90  \n",
            "8     90     95  \n",
            "9     90     90  \n"
          ]
        }
      ]
    },
    {
      "cell_type": "code",
      "source": [
        "import pandas as pd\n",
        "\n",
        "df = pd.read_csv('Grade.csv')\n",
        "print(df.tail(10))"
      ],
      "metadata": {
        "colab": {
          "base_uri": "https://localhost:8080/"
        },
        "id": "DKoqO2KT1Jj2",
        "outputId": "42bc3b2a-3e8c-475d-9cd5-986d2cc321c8"
      },
      "execution_count": 20,
      "outputs": [
        {
          "output_type": "stream",
          "name": "stdout",
          "text": [
            "    CpE 0323-1  Quiz 1  Python Fundamentals  Conditional Statements  \\\n",
            "20  STUDENT 20      31                  100                     100   \n",
            "21  STUDENT 20      31                  100                     100   \n",
            "22  STUDENT 22      35                  100                     100   \n",
            "23  STUDENT 23      31                  100                     100   \n",
            "24  STUDENT 24       0                  100                     100   \n",
            "25  STUDENT 25      31                  100                     100   \n",
            "26  STUDENT 26       0                  100                     100   \n",
            "27  STUDENT 27      40                  100                     100   \n",
            "28  STUDENT 28      40                  100                     100   \n",
            "29  STUDENT 29      36                  100                     100   \n",
            "\n",
            "    Loop Statement  Data Structure  Image Acquisition  Lab 1  Lab 2  Lab 3  \\\n",
            "20             100             100                100     90     90     90   \n",
            "21             100             100                100     90     90     90   \n",
            "22             100             100                100     90     90     90   \n",
            "23             100             100                100     80     75     75   \n",
            "24              75              75                 75     90     80     90   \n",
            "25             100             100                100     95     95     95   \n",
            "26              75              75                 75     90     80     90   \n",
            "27             100             100                100     80     75     75   \n",
            "28             100             100                100     90     90     90   \n",
            "29             100             100                100     90     90     90   \n",
            "\n",
            "    Lab 4  Lab 5  \n",
            "20     90     90  \n",
            "21     90     90  \n",
            "22     90     90  \n",
            "23     75     95  \n",
            "24     90     95  \n",
            "25     95     80  \n",
            "26     90     95  \n",
            "27     75     95  \n",
            "28     90     90  \n",
            "29     90     90  \n"
          ]
        }
      ]
    },
    {
      "cell_type": "code",
      "source": [
        "import pandas as pd\n",
        "\n",
        "df = pd.read_csv('Grade.csv')\n",
        "print(df.info(10))"
      ],
      "metadata": {
        "colab": {
          "base_uri": "https://localhost:8080/"
        },
        "id": "4u35i8sT1gIH",
        "outputId": "6144b01f-f8f1-4349-f9ea-0ec5e0f2d627"
      },
      "execution_count": 21,
      "outputs": [
        {
          "output_type": "stream",
          "name": "stdout",
          "text": [
            "<class 'pandas.core.frame.DataFrame'>\n",
            "RangeIndex: 30 entries, 0 to 29\n",
            "Data columns (total 12 columns):\n",
            " #   Column                  Non-Null Count  Dtype \n",
            "---  ------                  --------------  ----- \n",
            " 0   CpE 0323-1              30 non-null     object\n",
            " 1   Quiz 1                  30 non-null     int64 \n",
            " 2   Python Fundamentals     30 non-null     int64 \n",
            " 3   Conditional Statements  30 non-null     int64 \n",
            " 4   Loop Statement          30 non-null     int64 \n",
            " 5   Data Structure          30 non-null     int64 \n",
            " 6   Image Acquisition       30 non-null     int64 \n",
            " 7   Lab 1                   30 non-null     int64 \n",
            " 8   Lab 2                   30 non-null     int64 \n",
            " 9   Lab 3                   30 non-null     int64 \n",
            " 10  Lab 4                   30 non-null     int64 \n",
            " 11  Lab 5                   30 non-null     int64 \n",
            "dtypes: int64(11), object(1)\n",
            "memory usage: 2.9+ KB\n",
            "None\n"
          ]
        }
      ]
    },
    {
      "cell_type": "code",
      "source": [
        "print(df.duplicated())\n",
        "df.drop_duplicates(inplace = True)"
      ],
      "metadata": {
        "colab": {
          "base_uri": "https://localhost:8080/"
        },
        "id": "MELHp1Au1sn2",
        "outputId": "2588e6b1-ad91-4962-9c17-40dddbf50cf1"
      },
      "execution_count": 36,
      "outputs": [
        {
          "output_type": "stream",
          "name": "stdout",
          "text": [
            "0     False\n",
            "1     False\n",
            "2     False\n",
            "3     False\n",
            "4     False\n",
            "5     False\n",
            "6     False\n",
            "7     False\n",
            "8     False\n",
            "9     False\n",
            "10    False\n",
            "11    False\n",
            "12    False\n",
            "13    False\n",
            "14    False\n",
            "15    False\n",
            "16    False\n",
            "17    False\n",
            "18    False\n",
            "19    False\n",
            "20    False\n",
            "22    False\n",
            "23    False\n",
            "24    False\n",
            "25    False\n",
            "26    False\n",
            "27    False\n",
            "28    False\n",
            "29    False\n",
            "dtype: bool\n"
          ]
        }
      ]
    },
    {
      "cell_type": "code",
      "source": [
        "from tabulate import tabulate\n",
        "df.drop_duplicates(inplace = True)\n",
        "print(tabulate(df, headers = 'keys', tablefmt = 'psql', showindex = False))\n",
        "\n",
        "print(df)"
      ],
      "metadata": {
        "colab": {
          "base_uri": "https://localhost:8080/"
        },
        "id": "zFvWzfuH2Mdn",
        "outputId": "6fdb0f43-1e91-4d1d-e3f3-2ae479674a12"
      },
      "execution_count": 35,
      "outputs": [
        {
          "output_type": "stream",
          "name": "stdout",
          "text": [
            "+--------------+----------+-----------------------+--------------------------+------------------+------------------+---------------------+---------+---------+---------+---------+---------+\n",
            "| CpE 0323-1   |   Quiz 1 |   Python Fundamentals |   Conditional Statements |   Loop Statement |   Data Structure |   Image Acquisition |   Lab 1 |   Lab 2 |   Lab 3 |   Lab 4 |   Lab 5 |\n",
            "|--------------+----------+-----------------------+--------------------------+------------------+------------------+---------------------+---------+---------+---------+---------+---------|\n",
            "| Name         |       50 |                   100 |                      100 |              100 |              100 |                 100 |     100 |     100 |     100 |     100 |     100 |\n",
            "| STUDENT 1    |       33 |                   100 |                      100 |              100 |              100 |                 100 |      90 |      90 |      90 |      90 |      90 |\n",
            "| STUDENT 2    |       22 |                   100 |                      100 |              100 |              100 |                 100 |      80 |      75 |      75 |      75 |      95 |\n",
            "| STUDENT 3    |       42 |                   100 |                      100 |              100 |              100 |                 100 |      90 |      80 |      90 |      90 |      90 |\n",
            "| STUDENT 4    |       34 |                   100 |                      100 |              100 |              100 |                 100 |      80 |      75 |      75 |      75 |      95 |\n",
            "| STUDENT 5    |       38 |                   100 |                      100 |              100 |              100 |                 100 |      90 |      80 |      90 |      90 |      90 |\n",
            "| STUDENT 6    |       30 |                   100 |                      100 |              100 |              100 |                 100 |      80 |      75 |      75 |      75 |      95 |\n",
            "| STUDENT 7    |       24 |                   100 |                      100 |              100 |              100 |                 100 |      90 |      80 |      90 |      90 |      90 |\n",
            "| STUDENT 8    |       37 |                   100 |                      100 |              100 |              100 |                 100 |      90 |      80 |      90 |      90 |      95 |\n",
            "| STUDENT 9    |        0 |                   100 |                      100 |              100 |              100 |                 100 |      90 |      90 |      90 |      90 |      90 |\n",
            "| STUDENT 10   |       43 |                   100 |                      100 |              100 |              100 |                 100 |      95 |      95 |      95 |      95 |      80 |\n",
            "| STUDENT 11   |       35 |                   100 |                      100 |              100 |              100 |                 100 |      90 |      90 |      90 |      90 |      90 |\n",
            "| STUDENT 12   |       41 |                   100 |                      100 |              100 |              100 |                 100 |      90 |      90 |      90 |      90 |      90 |\n",
            "| STUDENT 13   |       37 |                   100 |                      100 |              100 |              100 |                 100 |      90 |      90 |      90 |      90 |      90 |\n",
            "| STUDENT 14   |        0 |                   100 |                      100 |               75 |              100 |                 100 |      95 |      95 |      95 |      95 |      80 |\n",
            "| STUDENT 15   |       37 |                   100 |                      100 |              100 |               75 |                  75 |      90 |      80 |      90 |      90 |      90 |\n",
            "| STUDENT 16   |       31 |                   100 |                      100 |              100 |              100 |                 100 |      90 |      80 |      90 |      90 |      90 |\n",
            "| STUDENT 17   |       28 |                   100 |                      100 |              100 |              100 |                 100 |      90 |      80 |      90 |      90 |      95 |\n",
            "| STUDENT 18   |       43 |                   100 |                      100 |              100 |              100 |                 100 |      90 |      80 |      90 |      90 |      95 |\n",
            "| STUDENT 19   |       35 |                   100 |                      100 |              100 |              100 |                 100 |      90 |      90 |      90 |      90 |      90 |\n",
            "| STUDENT 20   |       31 |                   100 |                      100 |              100 |              100 |                 100 |      90 |      90 |      90 |      90 |      90 |\n",
            "| STUDENT 22   |       35 |                   100 |                      100 |              100 |              100 |                 100 |      90 |      90 |      90 |      90 |      90 |\n",
            "| STUDENT 23   |       31 |                   100 |                      100 |              100 |              100 |                 100 |      80 |      75 |      75 |      75 |      95 |\n",
            "| STUDENT 24   |        0 |                   100 |                      100 |               75 |               75 |                  75 |      90 |      80 |      90 |      90 |      95 |\n",
            "| STUDENT 25   |       31 |                   100 |                      100 |              100 |              100 |                 100 |      95 |      95 |      95 |      95 |      80 |\n",
            "| STUDENT 26   |        0 |                   100 |                      100 |               75 |               75 |                  75 |      90 |      80 |      90 |      90 |      95 |\n",
            "| STUDENT 27   |       40 |                   100 |                      100 |              100 |              100 |                 100 |      80 |      75 |      75 |      75 |      95 |\n",
            "| STUDENT 28   |       40 |                   100 |                      100 |              100 |              100 |                 100 |      90 |      90 |      90 |      90 |      90 |\n",
            "| STUDENT 29   |       36 |                   100 |                      100 |              100 |              100 |                 100 |      90 |      90 |      90 |      90 |      90 |\n",
            "+--------------+----------+-----------------------+--------------------------+------------------+------------------+---------------------+---------+---------+---------+---------+---------+\n",
            "    CpE 0323-1  Quiz 1  Python Fundamentals  Conditional Statements  \\\n",
            "0         Name      50                  100                     100   \n",
            "1    STUDENT 1      33                  100                     100   \n",
            "2    STUDENT 2      22                  100                     100   \n",
            "3    STUDENT 3      42                  100                     100   \n",
            "4    STUDENT 4      34                  100                     100   \n",
            "5    STUDENT 5      38                  100                     100   \n",
            "6    STUDENT 6      30                  100                     100   \n",
            "7    STUDENT 7      24                  100                     100   \n",
            "8    STUDENT 8      37                  100                     100   \n",
            "9    STUDENT 9       0                  100                     100   \n",
            "10  STUDENT 10      43                  100                     100   \n",
            "11  STUDENT 11      35                  100                     100   \n",
            "12  STUDENT 12      41                  100                     100   \n",
            "13  STUDENT 13      37                  100                     100   \n",
            "14  STUDENT 14       0                  100                     100   \n",
            "15  STUDENT 15      37                  100                     100   \n",
            "16  STUDENT 16      31                  100                     100   \n",
            "17  STUDENT 17      28                  100                     100   \n",
            "18  STUDENT 18      43                  100                     100   \n",
            "19  STUDENT 19      35                  100                     100   \n",
            "20  STUDENT 20      31                  100                     100   \n",
            "22  STUDENT 22      35                  100                     100   \n",
            "23  STUDENT 23      31                  100                     100   \n",
            "24  STUDENT 24       0                  100                     100   \n",
            "25  STUDENT 25      31                  100                     100   \n",
            "26  STUDENT 26       0                  100                     100   \n",
            "27  STUDENT 27      40                  100                     100   \n",
            "28  STUDENT 28      40                  100                     100   \n",
            "29  STUDENT 29      36                  100                     100   \n",
            "\n",
            "    Loop Statement  Data Structure  Image Acquisition  Lab 1  Lab 2  Lab 3  \\\n",
            "0              100             100                100    100    100    100   \n",
            "1              100             100                100     90     90     90   \n",
            "2              100             100                100     80     75     75   \n",
            "3              100             100                100     90     80     90   \n",
            "4              100             100                100     80     75     75   \n",
            "5              100             100                100     90     80     90   \n",
            "6              100             100                100     80     75     75   \n",
            "7              100             100                100     90     80     90   \n",
            "8              100             100                100     90     80     90   \n",
            "9              100             100                100     90     90     90   \n",
            "10             100             100                100     95     95     95   \n",
            "11             100             100                100     90     90     90   \n",
            "12             100             100                100     90     90     90   \n",
            "13             100             100                100     90     90     90   \n",
            "14              75             100                100     95     95     95   \n",
            "15             100              75                 75     90     80     90   \n",
            "16             100             100                100     90     80     90   \n",
            "17             100             100                100     90     80     90   \n",
            "18             100             100                100     90     80     90   \n",
            "19             100             100                100     90     90     90   \n",
            "20             100             100                100     90     90     90   \n",
            "22             100             100                100     90     90     90   \n",
            "23             100             100                100     80     75     75   \n",
            "24              75              75                 75     90     80     90   \n",
            "25             100             100                100     95     95     95   \n",
            "26              75              75                 75     90     80     90   \n",
            "27             100             100                100     80     75     75   \n",
            "28             100             100                100     90     90     90   \n",
            "29             100             100                100     90     90     90   \n",
            "\n",
            "    Lab 4  Lab 5  \n",
            "0     100    100  \n",
            "1      90     90  \n",
            "2      75     95  \n",
            "3      90     90  \n",
            "4      75     95  \n",
            "5      90     90  \n",
            "6      75     95  \n",
            "7      90     90  \n",
            "8      90     95  \n",
            "9      90     90  \n",
            "10     95     80  \n",
            "11     90     90  \n",
            "12     90     90  \n",
            "13     90     90  \n",
            "14     95     80  \n",
            "15     90     90  \n",
            "16     90     90  \n",
            "17     90     95  \n",
            "18     90     95  \n",
            "19     90     90  \n",
            "20     90     90  \n",
            "22     90     90  \n",
            "23     75     95  \n",
            "24     90     95  \n",
            "25     95     80  \n",
            "26     90     95  \n",
            "27     75     95  \n",
            "28     90     90  \n",
            "29     90     90  \n"
          ]
        }
      ]
    },
    {
      "cell_type": "markdown",
      "source": [
        "## **Challenge 3**"
      ],
      "metadata": {
        "id": "U4WUiZWM8bHu"
      }
    },
    {
      "cell_type": "markdown",
      "source": [
        "**1.** **Import SampleData.csv to google.colab**\n"
      ],
      "metadata": {
        "id": "K2ZxYd3q9tiZ"
      }
    },
    {
      "cell_type": "code",
      "source": [
        "from google.colab import files\n",
        "\n",
        "file_upload = files.upload()"
      ],
      "metadata": {
        "colab": {
          "base_uri": "https://localhost:8080/",
          "height": 73
        },
        "id": "t9l4qHl28apf",
        "outputId": "661687c0-045c-444a-8c05-32c70b5e6ada"
      },
      "execution_count": 38,
      "outputs": [
        {
          "output_type": "display_data",
          "data": {
            "text/plain": [
              "<IPython.core.display.HTML object>"
            ],
            "text/html": [
              "\n",
              "     <input type=\"file\" id=\"files-b6790e50-9933-47b5-8278-cd5d8a766249\" name=\"files[]\" multiple disabled\n",
              "        style=\"border:none\" />\n",
              "     <output id=\"result-b6790e50-9933-47b5-8278-cd5d8a766249\">\n",
              "      Upload widget is only available when the cell has been executed in the\n",
              "      current browser session. Please rerun this cell to enable.\n",
              "      </output>\n",
              "      <script>// Copyright 2017 Google LLC\n",
              "//\n",
              "// Licensed under the Apache License, Version 2.0 (the \"License\");\n",
              "// you may not use this file except in compliance with the License.\n",
              "// You may obtain a copy of the License at\n",
              "//\n",
              "//      http://www.apache.org/licenses/LICENSE-2.0\n",
              "//\n",
              "// Unless required by applicable law or agreed to in writing, software\n",
              "// distributed under the License is distributed on an \"AS IS\" BASIS,\n",
              "// WITHOUT WARRANTIES OR CONDITIONS OF ANY KIND, either express or implied.\n",
              "// See the License for the specific language governing permissions and\n",
              "// limitations under the License.\n",
              "\n",
              "/**\n",
              " * @fileoverview Helpers for google.colab Python module.\n",
              " */\n",
              "(function(scope) {\n",
              "function span(text, styleAttributes = {}) {\n",
              "  const element = document.createElement('span');\n",
              "  element.textContent = text;\n",
              "  for (const key of Object.keys(styleAttributes)) {\n",
              "    element.style[key] = styleAttributes[key];\n",
              "  }\n",
              "  return element;\n",
              "}\n",
              "\n",
              "// Max number of bytes which will be uploaded at a time.\n",
              "const MAX_PAYLOAD_SIZE = 100 * 1024;\n",
              "\n",
              "function _uploadFiles(inputId, outputId) {\n",
              "  const steps = uploadFilesStep(inputId, outputId);\n",
              "  const outputElement = document.getElementById(outputId);\n",
              "  // Cache steps on the outputElement to make it available for the next call\n",
              "  // to uploadFilesContinue from Python.\n",
              "  outputElement.steps = steps;\n",
              "\n",
              "  return _uploadFilesContinue(outputId);\n",
              "}\n",
              "\n",
              "// This is roughly an async generator (not supported in the browser yet),\n",
              "// where there are multiple asynchronous steps and the Python side is going\n",
              "// to poll for completion of each step.\n",
              "// This uses a Promise to block the python side on completion of each step,\n",
              "// then passes the result of the previous step as the input to the next step.\n",
              "function _uploadFilesContinue(outputId) {\n",
              "  const outputElement = document.getElementById(outputId);\n",
              "  const steps = outputElement.steps;\n",
              "\n",
              "  const next = steps.next(outputElement.lastPromiseValue);\n",
              "  return Promise.resolve(next.value.promise).then((value) => {\n",
              "    // Cache the last promise value to make it available to the next\n",
              "    // step of the generator.\n",
              "    outputElement.lastPromiseValue = value;\n",
              "    return next.value.response;\n",
              "  });\n",
              "}\n",
              "\n",
              "/**\n",
              " * Generator function which is called between each async step of the upload\n",
              " * process.\n",
              " * @param {string} inputId Element ID of the input file picker element.\n",
              " * @param {string} outputId Element ID of the output display.\n",
              " * @return {!Iterable<!Object>} Iterable of next steps.\n",
              " */\n",
              "function* uploadFilesStep(inputId, outputId) {\n",
              "  const inputElement = document.getElementById(inputId);\n",
              "  inputElement.disabled = false;\n",
              "\n",
              "  const outputElement = document.getElementById(outputId);\n",
              "  outputElement.innerHTML = '';\n",
              "\n",
              "  const pickedPromise = new Promise((resolve) => {\n",
              "    inputElement.addEventListener('change', (e) => {\n",
              "      resolve(e.target.files);\n",
              "    });\n",
              "  });\n",
              "\n",
              "  const cancel = document.createElement('button');\n",
              "  inputElement.parentElement.appendChild(cancel);\n",
              "  cancel.textContent = 'Cancel upload';\n",
              "  const cancelPromise = new Promise((resolve) => {\n",
              "    cancel.onclick = () => {\n",
              "      resolve(null);\n",
              "    };\n",
              "  });\n",
              "\n",
              "  // Wait for the user to pick the files.\n",
              "  const files = yield {\n",
              "    promise: Promise.race([pickedPromise, cancelPromise]),\n",
              "    response: {\n",
              "      action: 'starting',\n",
              "    }\n",
              "  };\n",
              "\n",
              "  cancel.remove();\n",
              "\n",
              "  // Disable the input element since further picks are not allowed.\n",
              "  inputElement.disabled = true;\n",
              "\n",
              "  if (!files) {\n",
              "    return {\n",
              "      response: {\n",
              "        action: 'complete',\n",
              "      }\n",
              "    };\n",
              "  }\n",
              "\n",
              "  for (const file of files) {\n",
              "    const li = document.createElement('li');\n",
              "    li.append(span(file.name, {fontWeight: 'bold'}));\n",
              "    li.append(span(\n",
              "        `(${file.type || 'n/a'}) - ${file.size} bytes, ` +\n",
              "        `last modified: ${\n",
              "            file.lastModifiedDate ? file.lastModifiedDate.toLocaleDateString() :\n",
              "                                    'n/a'} - `));\n",
              "    const percent = span('0% done');\n",
              "    li.appendChild(percent);\n",
              "\n",
              "    outputElement.appendChild(li);\n",
              "\n",
              "    const fileDataPromise = new Promise((resolve) => {\n",
              "      const reader = new FileReader();\n",
              "      reader.onload = (e) => {\n",
              "        resolve(e.target.result);\n",
              "      };\n",
              "      reader.readAsArrayBuffer(file);\n",
              "    });\n",
              "    // Wait for the data to be ready.\n",
              "    let fileData = yield {\n",
              "      promise: fileDataPromise,\n",
              "      response: {\n",
              "        action: 'continue',\n",
              "      }\n",
              "    };\n",
              "\n",
              "    // Use a chunked sending to avoid message size limits. See b/62115660.\n",
              "    let position = 0;\n",
              "    do {\n",
              "      const length = Math.min(fileData.byteLength - position, MAX_PAYLOAD_SIZE);\n",
              "      const chunk = new Uint8Array(fileData, position, length);\n",
              "      position += length;\n",
              "\n",
              "      const base64 = btoa(String.fromCharCode.apply(null, chunk));\n",
              "      yield {\n",
              "        response: {\n",
              "          action: 'append',\n",
              "          file: file.name,\n",
              "          data: base64,\n",
              "        },\n",
              "      };\n",
              "\n",
              "      let percentDone = fileData.byteLength === 0 ?\n",
              "          100 :\n",
              "          Math.round((position / fileData.byteLength) * 100);\n",
              "      percent.textContent = `${percentDone}% done`;\n",
              "\n",
              "    } while (position < fileData.byteLength);\n",
              "  }\n",
              "\n",
              "  // All done.\n",
              "  yield {\n",
              "    response: {\n",
              "      action: 'complete',\n",
              "    }\n",
              "  };\n",
              "}\n",
              "\n",
              "scope.google = scope.google || {};\n",
              "scope.google.colab = scope.google.colab || {};\n",
              "scope.google.colab._files = {\n",
              "  _uploadFiles,\n",
              "  _uploadFilesContinue,\n",
              "};\n",
              "})(self);\n",
              "</script> "
            ]
          },
          "metadata": {}
        },
        {
          "output_type": "stream",
          "name": "stdout",
          "text": [
            "Saving SampleData.csv to SampleData (1).csv\n"
          ]
        }
      ]
    },
    {
      "cell_type": "markdown",
      "source": [
        "**2. Read the contents of SampleData.csv**"
      ],
      "metadata": {
        "id": "tayGhhmV-FcH"
      }
    },
    {
      "cell_type": "code",
      "source": [
        "import pandas as pd\n",
        "sd = pd.read_csv('SampleData.csv')\n",
        "print(sd)"
      ],
      "metadata": {
        "colab": {
          "base_uri": "https://localhost:8080/"
        },
        "id": "nRsvzOjj8iul",
        "outputId": "1feb1e1b-34dc-43ca-a96f-bdd4fe14554c"
      },
      "execution_count": 71,
      "outputs": [
        {
          "output_type": "stream",
          "name": "stdout",
          "text": [
            "   OrderDate   Region       Rep     Item  Units  Unit Cost       Total\n",
            "0     1/6/21     East     Jones   Pencil     95       1.99     189.05 \n",
            "1    1/23/21  Central    Kivell   Binder     50      19.99     999.50 \n",
            "2     2/9/21  Central   Jardine   Pencil     36       4.99     179.64 \n",
            "3    2/26/21  Central      Gill      Pen     27      19.99     539.73 \n",
            "4    3/15/21     West   Sorvino   Pencil     56       2.99     167.44 \n",
            "5     4/1/21     East     Jones   Binder     60       4.99     299.40 \n",
            "6    4/18/21  Central   Andrews   Pencil     75       1.99     149.25 \n",
            "7     5/5/21  Central   Jardine   Pencil     90       4.99     449.10 \n",
            "8    5/22/21     West  Thompson   Pencil     32       1.99      63.68 \n",
            "9     6/8/21     East     Jones   Binder     60       8.99     539.40 \n",
            "10   6/25/21  Central    Morgan   Pencil     90       4.99     449.10 \n",
            "11   7/12/21     East    Howard   Binder     29       1.99      57.71 \n",
            "12   7/29/21     East    Parent   Binder     81      19.99   1,619.19 \n",
            "13   8/15/21     East     Jones   Pencil     35       4.99     174.65 \n",
            "14    9/1/21  Central     Smith     Desk      2     125.00     250.00 \n",
            "15    9/1/21  Central     Smith     Desk      2     125.00     250.00 \n",
            "16   10/5/21  Central    Morgan   Binder     28       8.99     251.72 \n",
            "17  10/22/21     East     Jones      Pen     64       8.99     575.36 \n",
            "18   11/8/21     East    Parent      Pen     15      19.99     299.85 \n",
            "19  11/25/21  Central    Kivell  Pen Set     96       4.99     479.04 \n",
            "20  12/12/21  Central     Smith   Pencil     67       1.29      86.43 \n",
            "21  12/29/21     East    Parent  Pen Set     74      15.99   1,183.26 \n",
            "22  12/29/21     East    Parent  Pen Set     74      15.99   1,183.26 \n",
            "23    2/1/22  Central     Smith   Binder     87      15.00   1,305.00 \n",
            "24   2/18/22     East     Jones   Binder      4       4.99      19.96 \n",
            "25    3/7/22     West   Sorvino   Binder      7      19.99     139.93 \n",
            "26   3/24/22  Central   Jardine  Pen Set     50       4.99     249.50 \n",
            "27   4/10/22  Central   Andrews   Pencil     66       1.99     131.34 \n",
            "28   4/27/22     East    Howard      Pen     96       4.99     479.04 \n",
            "29   5/14/22  Central      Gill   Pencil     53       1.29      68.37 \n",
            "30   5/31/22  Central      Gill   Binder     80       8.99     719.20 \n",
            "31   6/17/22  Central    Kivell     Desk      5     125.00     625.00 \n",
            "32    7/4/22     East     Jones  Pen Set     62       4.99     309.38 \n",
            "33   7/21/22  Central    Morgan  Pen Set     55      12.49     686.95 \n",
            "34   7/21/22  Central    Morgan  Pen Set     55      12.49     686.95 \n",
            "35   7/21/22  Central    Morgan  Pen Set     55      12.49     686.95 \n",
            "36   9/10/22  Central      Gill   Pencil      7       1.29       9.03 \n",
            "37   9/27/22     West   Sorvino      Pen     76       1.99     151.24 \n",
            "38  10/14/22     West  Thompson   Binder     57      19.99   1,139.43 \n",
            "39  10/31/22  Central   Andrews   Pencil     14       1.29      18.06 \n",
            "40  11/17/22  Central   Jardine   Binder     11       4.99      54.89 \n",
            "41   12/4/22  Central   Jardine   Binder     94      19.99   1,879.06 \n",
            "42  12/21/22  Central   Andrews   Binder     28       4.99     139.72 \n"
          ]
        }
      ]
    },
    {
      "cell_type": "markdown",
      "source": [
        "**3. Show all top 10 records**"
      ],
      "metadata": {
        "id": "jgsvudf2-TEN"
      }
    },
    {
      "cell_type": "code",
      "source": [
        "import pandas as pd\n",
        "sd = pd.read_csv('SampleData.csv')\n",
        "print(sd.head(10))"
      ],
      "metadata": {
        "colab": {
          "base_uri": "https://localhost:8080/"
        },
        "id": "buDGPatx8mg2",
        "outputId": "e6c9d101-4d2f-436d-ff4a-c04a2ff2ab43"
      },
      "execution_count": 72,
      "outputs": [
        {
          "output_type": "stream",
          "name": "stdout",
          "text": [
            "  OrderDate   Region       Rep    Item  Units  Unit Cost     Total\n",
            "0    1/6/21     East     Jones  Pencil     95       1.99   189.05 \n",
            "1   1/23/21  Central    Kivell  Binder     50      19.99   999.50 \n",
            "2    2/9/21  Central   Jardine  Pencil     36       4.99   179.64 \n",
            "3   2/26/21  Central      Gill     Pen     27      19.99   539.73 \n",
            "4   3/15/21     West   Sorvino  Pencil     56       2.99   167.44 \n",
            "5    4/1/21     East     Jones  Binder     60       4.99   299.40 \n",
            "6   4/18/21  Central   Andrews  Pencil     75       1.99   149.25 \n",
            "7    5/5/21  Central   Jardine  Pencil     90       4.99   449.10 \n",
            "8   5/22/21     West  Thompson  Pencil     32       1.99    63.68 \n",
            "9    6/8/21     East     Jones  Binder     60       8.99   539.40 \n"
          ]
        }
      ]
    },
    {
      "cell_type": "markdown",
      "source": [
        "**4. Show all bottom 10 records**"
      ],
      "metadata": {
        "id": "uxuDYKwz-ZYl"
      }
    },
    {
      "cell_type": "code",
      "source": [
        "import pandas as pd\n",
        "sd = pd.read_csv('SampleData.csv')\n",
        "print(sd.tail(10))"
      ],
      "metadata": {
        "colab": {
          "base_uri": "https://localhost:8080/"
        },
        "id": "bUXlqMP38oku",
        "outputId": "9188e274-cc75-4a37-8ddb-bf1ba3b97467"
      },
      "execution_count": 73,
      "outputs": [
        {
          "output_type": "stream",
          "name": "stdout",
          "text": [
            "   OrderDate   Region       Rep     Item  Units  Unit Cost       Total\n",
            "33   7/21/22  Central    Morgan  Pen Set     55      12.49     686.95 \n",
            "34   7/21/22  Central    Morgan  Pen Set     55      12.49     686.95 \n",
            "35   7/21/22  Central    Morgan  Pen Set     55      12.49     686.95 \n",
            "36   9/10/22  Central      Gill   Pencil      7       1.29       9.03 \n",
            "37   9/27/22     West   Sorvino      Pen     76       1.99     151.24 \n",
            "38  10/14/22     West  Thompson   Binder     57      19.99   1,139.43 \n",
            "39  10/31/22  Central   Andrews   Pencil     14       1.29      18.06 \n",
            "40  11/17/22  Central   Jardine   Binder     11       4.99      54.89 \n",
            "41   12/4/22  Central   Jardine   Binder     94      19.99   1,879.06 \n",
            "42  12/21/22  Central   Andrews   Binder     28       4.99     139.72 \n"
          ]
        }
      ]
    },
    {
      "cell_type": "markdown",
      "source": [
        "**5. Eliminate all duplicate records**"
      ],
      "metadata": {
        "id": "BHCCVuvI-iI-"
      }
    },
    {
      "cell_type": "code",
      "source": [
        "print(sd.duplicated())\n",
        "sd.drop_duplicates(inplace = True)\n"
      ],
      "metadata": {
        "colab": {
          "base_uri": "https://localhost:8080/"
        },
        "id": "zR4UcYGc8qke",
        "outputId": "49bf9c6d-8ebf-42ba-c060-ed377080d341"
      },
      "execution_count": 74,
      "outputs": [
        {
          "output_type": "stream",
          "name": "stdout",
          "text": [
            "0     False\n",
            "1     False\n",
            "2     False\n",
            "3     False\n",
            "4     False\n",
            "5     False\n",
            "6     False\n",
            "7     False\n",
            "8     False\n",
            "9     False\n",
            "10    False\n",
            "11    False\n",
            "12    False\n",
            "13    False\n",
            "14    False\n",
            "15     True\n",
            "16    False\n",
            "17    False\n",
            "18    False\n",
            "19    False\n",
            "20    False\n",
            "21    False\n",
            "22     True\n",
            "23    False\n",
            "24    False\n",
            "25    False\n",
            "26    False\n",
            "27    False\n",
            "28    False\n",
            "29    False\n",
            "30    False\n",
            "31    False\n",
            "32    False\n",
            "33    False\n",
            "34     True\n",
            "35     True\n",
            "36    False\n",
            "37    False\n",
            "38    False\n",
            "39    False\n",
            "40    False\n",
            "41    False\n",
            "42    False\n",
            "dtype: bool\n"
          ]
        }
      ]
    },
    {
      "cell_type": "markdown",
      "source": [
        "**6. Save the contents (removed duplicate records) into new file SampleDataNew.csv**"
      ],
      "metadata": {
        "id": "hkeM8Rn7-s6N"
      }
    },
    {
      "cell_type": "code",
      "source": [
        "from tabulate import tabulate\n",
        "sd.drop_duplicates(inplace = True)\n",
        "print(tabulate(sd, headers = 'keys', tablefmt = 'psql', showindex = False))\n",
        "sd.to_csv('SampleDataNew.csv')\n"
      ],
      "metadata": {
        "colab": {
          "base_uri": "https://localhost:8080/"
        },
        "id": "UaXam-Qf9Vad",
        "outputId": "9bc161a0-8f2f-4c1a-a09e-00584a797b72"
      },
      "execution_count": 75,
      "outputs": [
        {
          "output_type": "stream",
          "name": "stdout",
          "text": [
            "+-------------+----------+----------+---------+---------+-------------+----------+\n",
            "| OrderDate   | Region   | Rep      | Item    |   Units |   Unit Cost | Total    |\n",
            "|-------------+----------+----------+---------+---------+-------------+----------|\n",
            "| 1/6/21      | East     | Jones    | Pencil  |      95 |        1.99 | 189.05   |\n",
            "| 1/23/21     | Central  | Kivell   | Binder  |      50 |       19.99 | 999.50   |\n",
            "| 2/9/21      | Central  | Jardine  | Pencil  |      36 |        4.99 | 179.64   |\n",
            "| 2/26/21     | Central  | Gill     | Pen     |      27 |       19.99 | 539.73   |\n",
            "| 3/15/21     | West     | Sorvino  | Pencil  |      56 |        2.99 | 167.44   |\n",
            "| 4/1/21      | East     | Jones    | Binder  |      60 |        4.99 | 299.40   |\n",
            "| 4/18/21     | Central  | Andrews  | Pencil  |      75 |        1.99 | 149.25   |\n",
            "| 5/5/21      | Central  | Jardine  | Pencil  |      90 |        4.99 | 449.10   |\n",
            "| 5/22/21     | West     | Thompson | Pencil  |      32 |        1.99 | 63.68    |\n",
            "| 6/8/21      | East     | Jones    | Binder  |      60 |        8.99 | 539.40   |\n",
            "| 6/25/21     | Central  | Morgan   | Pencil  |      90 |        4.99 | 449.10   |\n",
            "| 7/12/21     | East     | Howard   | Binder  |      29 |        1.99 | 57.71    |\n",
            "| 7/29/21     | East     | Parent   | Binder  |      81 |       19.99 | 1,619.19 |\n",
            "| 8/15/21     | East     | Jones    | Pencil  |      35 |        4.99 | 174.65   |\n",
            "| 9/1/21      | Central  | Smith    | Desk    |       2 |      125    | 250.00   |\n",
            "| 10/5/21     | Central  | Morgan   | Binder  |      28 |        8.99 | 251.72   |\n",
            "| 10/22/21    | East     | Jones    | Pen     |      64 |        8.99 | 575.36   |\n",
            "| 11/8/21     | East     | Parent   | Pen     |      15 |       19.99 | 299.85   |\n",
            "| 11/25/21    | Central  | Kivell   | Pen Set |      96 |        4.99 | 479.04   |\n",
            "| 12/12/21    | Central  | Smith    | Pencil  |      67 |        1.29 | 86.43    |\n",
            "| 12/29/21    | East     | Parent   | Pen Set |      74 |       15.99 | 1,183.26 |\n",
            "| 2/1/22      | Central  | Smith    | Binder  |      87 |       15    | 1,305.00 |\n",
            "| 2/18/22     | East     | Jones    | Binder  |       4 |        4.99 | 19.96    |\n",
            "| 3/7/22      | West     | Sorvino  | Binder  |       7 |       19.99 | 139.93   |\n",
            "| 3/24/22     | Central  | Jardine  | Pen Set |      50 |        4.99 | 249.50   |\n",
            "| 4/10/22     | Central  | Andrews  | Pencil  |      66 |        1.99 | 131.34   |\n",
            "| 4/27/22     | East     | Howard   | Pen     |      96 |        4.99 | 479.04   |\n",
            "| 5/14/22     | Central  | Gill     | Pencil  |      53 |        1.29 | 68.37    |\n",
            "| 5/31/22     | Central  | Gill     | Binder  |      80 |        8.99 | 719.20   |\n",
            "| 6/17/22     | Central  | Kivell   | Desk    |       5 |      125    | 625.00   |\n",
            "| 7/4/22      | East     | Jones    | Pen Set |      62 |        4.99 | 309.38   |\n",
            "| 7/21/22     | Central  | Morgan   | Pen Set |      55 |       12.49 | 686.95   |\n",
            "| 9/10/22     | Central  | Gill     | Pencil  |       7 |        1.29 | 9.03     |\n",
            "| 9/27/22     | West     | Sorvino  | Pen     |      76 |        1.99 | 151.24   |\n",
            "| 10/14/22    | West     | Thompson | Binder  |      57 |       19.99 | 1,139.43 |\n",
            "| 10/31/22    | Central  | Andrews  | Pencil  |      14 |        1.29 | 18.06    |\n",
            "| 11/17/22    | Central  | Jardine  | Binder  |      11 |        4.99 | 54.89    |\n",
            "| 12/4/22     | Central  | Jardine  | Binder  |      94 |       19.99 | 1,879.06 |\n",
            "| 12/21/22    | Central  | Andrews  | Binder  |      28 |        4.99 | 139.72   |\n",
            "+-------------+----------+----------+---------+---------+-------------+----------+\n"
          ]
        }
      ]
    },
    {
      "cell_type": "markdown",
      "source": [
        "Challenge 3.1"
      ],
      "metadata": {
        "id": "AJxKeNMzNC1U"
      }
    },
    {
      "cell_type": "code",
      "source": [
        "print(sd[['OrderDate', 'Region']])"
      ],
      "metadata": {
        "colab": {
          "base_uri": "https://localhost:8080/"
        },
        "id": "HMgoFexGJlnl",
        "outputId": "22632d64-9b84-4954-c7f7-2504009a34ce"
      },
      "execution_count": 78,
      "outputs": [
        {
          "output_type": "stream",
          "name": "stdout",
          "text": [
            "   OrderDate   Region\n",
            "0     1/6/21     East\n",
            "1    1/23/21  Central\n",
            "2     2/9/21  Central\n",
            "3    2/26/21  Central\n",
            "4    3/15/21     West\n",
            "5     4/1/21     East\n",
            "6    4/18/21  Central\n",
            "7     5/5/21  Central\n",
            "8    5/22/21     West\n",
            "9     6/8/21     East\n",
            "10   6/25/21  Central\n",
            "11   7/12/21     East\n",
            "12   7/29/21     East\n",
            "13   8/15/21     East\n",
            "14    9/1/21  Central\n",
            "16   10/5/21  Central\n",
            "17  10/22/21     East\n",
            "18   11/8/21     East\n",
            "19  11/25/21  Central\n",
            "20  12/12/21  Central\n",
            "21  12/29/21     East\n",
            "23    2/1/22  Central\n",
            "24   2/18/22     East\n",
            "25    3/7/22     West\n",
            "26   3/24/22  Central\n",
            "27   4/10/22  Central\n",
            "28   4/27/22     East\n",
            "29   5/14/22  Central\n",
            "30   5/31/22  Central\n",
            "31   6/17/22  Central\n",
            "32    7/4/22     East\n",
            "33   7/21/22  Central\n",
            "36   9/10/22  Central\n",
            "37   9/27/22     West\n",
            "38  10/14/22     West\n",
            "39  10/31/22  Central\n",
            "40  11/17/22  Central\n",
            "41   12/4/22  Central\n",
            "42  12/21/22  Central\n"
          ]
        }
      ]
    }
  ]
}